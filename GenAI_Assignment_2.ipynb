{
  "nbformat": 4,
  "nbformat_minor": 0,
  "metadata": {
    "colab": {
      "provenance": []
    },
    "kernelspec": {
      "name": "python3",
      "display_name": "Python 3"
    },
    "language_info": {
      "name": "python"
    }
  },
  "cells": [
    {
      "cell_type": "code",
      "execution_count": 11,
      "metadata": {
        "colab": {
          "base_uri": "https://localhost:8080/"
        },
        "id": "C0XDdPD-IaLb",
        "outputId": "fce3264a-43b1-4756-af14-fb1fe3bb91cb"
      },
      "outputs": [
        {
          "output_type": "stream",
          "name": "stdout",
          "text": [
            "You won the diamond!\n",
            "You lost the diamond auction.\n",
            "You lost the diamond auction.\n",
            "You lost the diamond auction.\n",
            "You lost the diamond auction.\n",
            "You lost the diamond auction.\n",
            "You won the diamond!\n",
            "You lost the diamond auction.\n",
            "You lost the diamond auction.\n",
            "You lost the diamond auction.\n",
            "You lost the diamond auction.\n",
            "You lost the diamond auction.\n",
            "You won the diamond!\n",
            "Final Score: 29\n"
          ]
        }
      ],
      "source": [
        "import random\n",
        "\n",
        "class Card:\n",
        "    def __init__(self, suit, value):\n",
        "        self.suit = suit\n",
        "        self.value = value\n",
        "\n",
        "class Deck:\n",
        "    def __init__(self):\n",
        "        self.cards = []\n",
        "        for suit in [\"Spades\", \"Hearts\", \"Clubs\"]:\n",
        "            for value in range(1, 14):\n",
        "                self.cards.append(Card(suit, value))\n",
        "\n",
        "    def shuffle(self):\n",
        "        random.shuffle(self.cards)\n",
        "\n",
        "    def deal_hand(self, num_cards):\n",
        "        hand = []\n",
        "        for _ in range(num_cards):\n",
        "            hand.append(self.cards.pop())\n",
        "        return hand\n",
        "\n",
        "class DiamondsGame:\n",
        "    def __init__(self):\n",
        "        self.deck = Deck()\n",
        "        self.deck.shuffle()\n",
        "        self.diamond_pile = self.deck.cards[:-13]  # Remove diamonds for auction\n",
        "        self.player_hand = self.deck.deal_hand(13)  # Deal player hand\n",
        "        self.revealed_diamonds = []\n",
        "        self.player_score = 0\n",
        "\n",
        "    def auction_round(self):\n",
        "        # Simulate opponent bids with random low-mid value cards\n",
        "        opponent_bid = random.choice([card for card in self.deck.cards if 2 <= card.value <= 10])\n",
        "\n",
        "        # Choose player bid based on strategy (replace with your desired logic)\n",
        "        player_bid = self.basic_bid_strategy(self.player_hand, self.revealed_diamonds)\n",
        "\n",
        "        # Determine winner\n",
        "        if player_bid.value > opponent_bid.value:\n",
        "            self.revealed_diamonds.append(self.diamond_pile.pop())\n",
        "            self.player_score += self.revealed_diamonds[-1].value\n",
        "            print(\"You won the diamond!\")\n",
        "        else:\n",
        "            print(\"You lost the diamond auction.\")\n",
        "\n",
        "    def basic_bid_strategy(self, hand, revealed_diamonds):\n",
        "        # This is a simple example, replace with your actual strategy logic\n",
        "        # Early rounds: Use low-mid value cards (2-8) for information gathering\n",
        "        # Later rounds: Adjust bids based on revealed diamonds and remaining cards\n",
        "        if len(revealed_diamonds) < 5:\n",
        "            return random.choice([card for card in hand if 2 <= card.value <= 8])\n",
        "        else:\n",
        "            return random.choice(hand)  # Placeholder, replace with logic\n",
        "\n",
        "    def play_game(self, num_rounds):\n",
        "        for _ in range(num_rounds):\n",
        "            self.auction_round()\n",
        "\n",
        "        # Calculate final score (assuming no points from non-diamond cards)\n",
        "        print(f\"Final Score: {self.player_score}\")\n",
        "\n",
        "# Example Usage\n",
        "game = DiamondsGame()\n",
        "game.play_game(13)  # Simulate 13 auction rounds"
      ]
    }
  ]
}